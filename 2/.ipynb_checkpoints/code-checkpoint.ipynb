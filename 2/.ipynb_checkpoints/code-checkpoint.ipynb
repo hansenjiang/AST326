{
 "cells": [
  {
   "cell_type": "code",
   "execution_count": 1,
   "metadata": {},
   "outputs": [],
   "source": [
    "import numpy as np\n",
    "from matplotlib import pyplot as plt\n",
    "from scipy.stats import norm\n",
    "from scipy.stats import chi2\n",
    "from scipy import constants"
   ]
  },
  {
   "cell_type": "code",
   "execution_count": 2,
   "metadata": {},
   "outputs": [],
   "source": [
    "#Graphing variables\n",
    "pagewidth = (8.5, 5)"
   ]
  },
  {
   "cell_type": "code",
   "execution_count": 3,
   "metadata": {},
   "outputs": [],
   "source": [
    "#Function definitions\n",
    "\n",
    "''' Plots the distributions of data as a histogram against the gaussian distribution with mean and stddev matching\n",
    "    that of the data. \n",
    "'''\n",
    "def plot_distribution(data, filename, title, figsize=pagewidth, bins=50, hrange=(-100, 100), \n",
    "                      directory='graphs/distributions/'):\n",
    "    plt.figure(figsize=figsize)\n",
    "    gspace = np.linspace(hrange[0], hrange[1], 1000)\n",
    "    gnorm = norm.pdf(gspace, loc=np.mean(data), scale=np.std(data))\n",
    "    gnorm *= 1000 * len(data) / (sum(gnorm) * bins)\n",
    "    plt.plot(gspace, gnorm, color='orange', label='normal distribution')\n",
    "    plt.hist(data, bins=bins, range=hrange, facecolor='blue', alpha=0.5, label='data distribution')\n",
    "    plt.xlabel('ADC Reading (bits)')\n",
    "    plt.ylabel('Frequency')\n",
    "    plt.title('Distribution of Data, with frequency '+title)\n",
    "    plt.legend()\n",
    "    plt.savefig(directory+filename+'.png', bbox_inches='tight')\n",
    "\n",
    "''' Sums n adjacent samples together in list data and returns a new list of size len(data)/n. \n",
    "    n should be a factor of len(data).\n",
    "'''\n",
    "def sum_adjacent(data, n):\n",
    "    new_set = np.array([])\n",
    "    for i in range(len(data)):\n",
    "        np.append(new_set, sum(data[n*i:n*i+n]))\n",
    "\n",
    "''' Plots the distributions of power data as a histogram against the chi squared distribution \n",
    "    with mean and stddev matching that of the data. \n",
    "'''\n",
    "def plot_chi2(data, n, filename, title, figsize=pagewidth, bins=70, hrange=(-100, 100), \n",
    "              directory='graphs/chi2/'):\n",
    "    plt.figure(figsize=figsize)\n",
    "    cspace = np.linspace(hrange[0], hrange[1], 1000)\n",
    "    cnorm = chi2.pdf(gspace, n, loc=np.mean(data), scale=np.std(data))\n",
    "    cnorm *= 1000 * len(data) / (sum(cnorm) * bins * n)\n",
    "    plt.plot(cspace, cnorm, color='orange', label='chi2 distribution, df='+str(n))\n",
    "    plt.hist(sum_adjacent(data, n), bins=bins, range=hrange, facecolor='blue', alpha=0.5, label='data distribution')\n",
    "    plt.xlabel('ADC Reading (bits)')\n",
    "    plt.ylabel('Frequency')\n",
    "    plt.title('Distribution of Power Estimates, with frequency '+title)\n",
    "    plt.legend()\n",
    "    plt.savefig(directory+filename+'.png', bbox_inches='tight')"
   ]
  },
  {
   "cell_type": "code",
   "execution_count": null,
   "metadata": {},
   "outputs": [],
   "source": [
    "#Data input and formatting\n",
    "directory = 'newdata/'\n",
    "filenames = ['room_UHF_100m', 'room_FM_100m', 'room_LTE_100m', \n",
    "             'boiling', #'boiling2', 'boiling3', 'boiling4',\n",
    "             'ice', 'dry_ice', 'liquid_nitrogen']\n",
    "titles = ['1GHz @21.9$^\\circ$ C', '100MHz @21.9$^\\circ$ C', '720MHz @21.9$^\\circ$ C', \n",
    "          '1GHz @87.2$^\\circ$ C', #'1GHz @77.1$^\\circ$ C', '1GHz @61.8$^\\circ$ C', '1GHz @56.6$^\\circ$ C', \n",
    "          '1GHz @0.8$^\\circ$ C', '1GHz @-78.5$^\\circ$ C', '1GHz @-195.8$^\\circ$ C']\n",
    "\n",
    "data = np.empty((len(filenames), 100000000))\n",
    "for i in range(len(filenames)): data[i] = np.fromfile(directory+filenames[i]+'.dat', dtype='int16')-2.**11 "
   ]
  },
  {
   "cell_type": "code",
   "execution_count": 11,
   "metadata": {},
   "outputs": [],
   "source": [
    "for entry in data:\n",
    "    entry -= np.mean(entry)"
   ]
  },
  {
   "cell_type": "code",
   "execution_count": null,
   "metadata": {},
   "outputs": [],
   "source": [
    "for i in range(len(filenames)): \n",
    "    plot_distribution(data[i], filenames[i], titles[i], hrange=(min(data[i]), max(data[i])))"
   ]
  },
  {
   "cell_type": "code",
   "execution_count": null,
   "metadata": {},
   "outputs": [],
   "source": [
    "power = np.empty(data.shape)\n",
    "for entry in data:\n",
    "    power[i] = constants.epsilon_0 * constants.c * entry**2 / 2"
   ]
  },
  {
   "cell_type": "code",
   "execution_count": null,
   "metadata": {},
   "outputs": [],
   "source": [
    "for i in range(len(filenames)):\n",
    "    plot_chi2(data[i], 1, filenames[i], titles[i], hrange=(min(data[i]), max(data[i])))"
   ]
  }
 ],
 "metadata": {
  "kernelspec": {
   "display_name": "Python 3",
   "language": "python",
   "name": "python3"
  },
  "language_info": {
   "codemirror_mode": {
    "name": "ipython",
    "version": 3
   },
   "file_extension": ".py",
   "mimetype": "text/x-python",
   "name": "python",
   "nbconvert_exporter": "python",
   "pygments_lexer": "ipython3",
   "version": "3.6.4"
  }
 },
 "nbformat": 4,
 "nbformat_minor": 2
}
